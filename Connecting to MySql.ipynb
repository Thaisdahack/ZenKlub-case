{
 "cells": [
  {
   "cell_type": "code",
   "execution_count": 1,
   "id": "0d273d33",
   "metadata": {
    "ExecuteTime": {
     "end_time": "2022-06-26T20:24:14.621190Z",
     "start_time": "2022-06-26T20:24:09.317471Z"
    }
   },
   "outputs": [],
   "source": [
    "import sqlalchemy as db #library to connect\n",
    "import pandas as pd"
   ]
  },
  {
   "cell_type": "code",
   "execution_count": 2,
   "id": "e37c7cb3",
   "metadata": {
    "ExecuteTime": {
     "end_time": "2022-06-26T20:24:16.100668Z",
     "start_time": "2022-06-26T20:24:14.655096Z"
    }
   },
   "outputs": [],
   "source": [
    "#setting the connection\n",
    "\n",
    "db_server='pymysql'\n",
    "user='thaisdias'\n",
    "db_port = '3306'\n",
    "password = 'Thaishelena2908'\n",
    "ip = '127.0.0.1'\n",
    "db_name = 'zenklub'\n",
    "engine = db.create_engine(f'mysql+{db_server}://{user}:{password}@{ip}:{db_port}/{db_name}?charset=utf8',pool_pre_ping=True)\n",
    "conn = engine.connect()"
   ]
  },
  {
   "cell_type": "code",
   "execution_count": 17,
   "id": "86bf80da",
   "metadata": {
    "ExecuteTime": {
     "end_time": "2022-06-25T15:24:08.970829Z",
     "start_time": "2022-06-25T15:24:08.216802Z"
    }
   },
   "outputs": [],
   "source": [
    "#transfering dataframe to mysql\n",
    "# reading dataset data_teste\n",
    "clients = pd.read_csv('clients_1.csv')\n",
    "clients.to_sql(name='clients', con=conn, if_exists='replace', index=False)"
   ]
  },
  {
   "cell_type": "code",
   "execution_count": 3,
   "id": "ffec7ed1",
   "metadata": {
    "ExecuteTime": {
     "end_time": "2022-06-26T20:24:23.791072Z",
     "start_time": "2022-06-26T20:24:18.527215Z"
    }
   },
   "outputs": [],
   "source": [
    "events = pd.read_csv('events_1.csv')\n",
    "events.to_sql(name='events', con=conn, if_exists='replace', index=False)"
   ]
  },
  {
   "cell_type": "code",
   "execution_count": 19,
   "id": "99d97c68",
   "metadata": {
    "ExecuteTime": {
     "end_time": "2022-06-25T15:33:07.749415Z",
     "start_time": "2022-06-25T15:33:07.567694Z"
    }
   },
   "outputs": [],
   "source": [
    "professionals = pd.read_csv('professionals_1.csv')\n",
    "professionals.to_sql(name='professionals', con=conn, if_exists='replace', index=False)"
   ]
  },
  {
   "cell_type": "code",
   "execution_count": 16,
   "id": "7688b557",
   "metadata": {
    "ExecuteTime": {
     "end_time": "2022-06-25T14:42:56.773711Z",
     "start_time": "2022-06-25T14:42:56.195988Z"
    }
   },
   "outputs": [],
   "source": [
    "ratings = pd.read_csv('ratings.csv')\n",
    "ratings.to_sql(name='ratings', con=conn, if_exists='replace', index=False)"
   ]
  }
 ],
 "metadata": {
  "kernelspec": {
   "display_name": "Python 3",
   "language": "python",
   "name": "python3"
  },
  "language_info": {
   "codemirror_mode": {
    "name": "ipython",
    "version": 3
   },
   "file_extension": ".py",
   "mimetype": "text/x-python",
   "name": "python",
   "nbconvert_exporter": "python",
   "pygments_lexer": "ipython3",
   "version": "3.8.8"
  },
  "toc": {
   "base_numbering": 1,
   "nav_menu": {},
   "number_sections": true,
   "sideBar": true,
   "skip_h1_title": false,
   "title_cell": "Table of Contents",
   "title_sidebar": "Contents",
   "toc_cell": false,
   "toc_position": {},
   "toc_section_display": true,
   "toc_window_display": false
  },
  "varInspector": {
   "cols": {
    "lenName": 16,
    "lenType": 16,
    "lenVar": 40
   },
   "kernels_config": {
    "python": {
     "delete_cmd_postfix": "",
     "delete_cmd_prefix": "del ",
     "library": "var_list.py",
     "varRefreshCmd": "print(var_dic_list())"
    },
    "r": {
     "delete_cmd_postfix": ") ",
     "delete_cmd_prefix": "rm(",
     "library": "var_list.r",
     "varRefreshCmd": "cat(var_dic_list()) "
    }
   },
   "types_to_exclude": [
    "module",
    "function",
    "builtin_function_or_method",
    "instance",
    "_Feature"
   ],
   "window_display": false
  }
 },
 "nbformat": 4,
 "nbformat_minor": 5
}
