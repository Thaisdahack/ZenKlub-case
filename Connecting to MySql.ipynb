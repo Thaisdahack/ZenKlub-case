{
 "cells": [
  {
   "cell_type": "code",
   "execution_count": 9,
   "id": "bdcfe5e0",
   "metadata": {
    "ExecuteTime": {
     "end_time": "2022-06-25T14:40:24.265972Z",
     "start_time": "2022-06-25T14:40:22.498497Z"
    }
   },
   "outputs": [],
   "source": [
    "import sqlalchemy as db #library to connect\n",
    "import pandas as pd"
   ]
  },
  {
   "cell_type": "code",
   "execution_count": 5,
   "id": "a37c55fb",
   "metadata": {
    "ExecuteTime": {
     "end_time": "2022-06-25T14:38:50.181115Z",
     "start_time": "2022-06-25T14:38:50.115484Z"
    }
   },
   "outputs": [],
   "source": [
    "#setting the connection\n",
    "\n",
    "db_server='pymysql'\n",
    "user='thaisdias'\n",
    "db_port = '3306'\n",
    "password = 'Thaishelena2908'\n",
    "ip = '127.0.0.1'\n",
    "db_name = 'zenklub'\n",
    "engine = db.create_engine(f'mysql+{db_server}://{user}:{password}@{ip}:{db_port}/{db_name}?charset=utf8',pool_pre_ping=True)\n",
    "conn = engine.connect()"
   ]
  },
  {
   "cell_type": "code",
   "execution_count": 11,
   "id": "65acfce1",
   "metadata": {
    "ExecuteTime": {
     "end_time": "2022-06-25T14:40:30.323726Z",
     "start_time": "2022-06-25T14:40:29.955006Z"
    }
   },
   "outputs": [],
   "source": [
    "#transfering dataframe to mysql\n",
    "# reading dataset data_teste\n",
    "clients = pd.read_csv('clients.csv')\n",
    "clients.to_sql(name='clients', con=conn, if_exists='replace', index=False)"
   ]
  },
  {
   "cell_type": "code",
   "execution_count": 14,
   "id": "ee2e3042",
   "metadata": {
    "ExecuteTime": {
     "end_time": "2022-06-25T14:41:28.309068Z",
     "start_time": "2022-06-25T14:41:22.468673Z"
    }
   },
   "outputs": [],
   "source": [
    "events = pd.read_csv('events.csv')\n",
    "events.to_sql(name='events', con=conn, if_exists='replace', index=False)"
   ]
  },
  {
   "cell_type": "code",
   "execution_count": 15,
   "id": "3b8c2d3c",
   "metadata": {
    "ExecuteTime": {
     "end_time": "2022-06-25T14:42:14.352829Z",
     "start_time": "2022-06-25T14:42:13.768788Z"
    }
   },
   "outputs": [],
   "source": [
    "professionals = pd.read_csv('proessionals.csv')\n",
    "professionals.to_sql(name='professionals', con=conn, if_exists='replace', index=False)"
   ]
  },
  {
   "cell_type": "code",
   "execution_count": 16,
   "id": "f072ff83",
   "metadata": {
    "ExecuteTime": {
     "end_time": "2022-06-25T14:42:56.773711Z",
     "start_time": "2022-06-25T14:42:56.195988Z"
    }
   },
   "outputs": [],
   "source": [
    "ratings = pd.read_csv('ratings.csv')\n",
    "ratings.to_sql(name='ratings', con=conn, if_exists='replace', index=False)"
   ]
  }
 ],
 "metadata": {
  "kernelspec": {
   "display_name": "Python 3",
   "language": "python",
   "name": "python3"
  },
  "language_info": {
   "codemirror_mode": {
    "name": "ipython",
    "version": 3
   },
   "file_extension": ".py",
   "mimetype": "text/x-python",
   "name": "python",
   "nbconvert_exporter": "python",
   "pygments_lexer": "ipython3",
   "version": "3.8.8"
  },
  "toc": {
   "base_numbering": 1,
   "nav_menu": {},
   "number_sections": true,
   "sideBar": true,
   "skip_h1_title": false,
   "title_cell": "Table of Contents",
   "title_sidebar": "Contents",
   "toc_cell": false,
   "toc_position": {},
   "toc_section_display": true,
   "toc_window_display": false
  },
  "varInspector": {
   "cols": {
    "lenName": 16,
    "lenType": 16,
    "lenVar": 40
   },
   "kernels_config": {
    "python": {
     "delete_cmd_postfix": "",
     "delete_cmd_prefix": "del ",
     "library": "var_list.py",
     "varRefreshCmd": "print(var_dic_list())"
    },
    "r": {
     "delete_cmd_postfix": ") ",
     "delete_cmd_prefix": "rm(",
     "library": "var_list.r",
     "varRefreshCmd": "cat(var_dic_list()) "
    }
   },
   "types_to_exclude": [
    "module",
    "function",
    "builtin_function_or_method",
    "instance",
    "_Feature"
   ],
   "window_display": false
  }
 },
 "nbformat": 4,
 "nbformat_minor": 5
}
