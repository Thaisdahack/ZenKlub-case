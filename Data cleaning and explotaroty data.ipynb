{
 "cells": [
  {
   "cell_type": "code",
   "execution_count": 1,
   "id": "84929fb7",
   "metadata": {
    "ExecuteTime": {
     "end_time": "2022-06-26T14:42:44.669025Z",
     "start_time": "2022-06-26T14:42:38.914027Z"
    }
   },
   "outputs": [],
   "source": [
    "import pandas as pd\n",
    "import numpy as np\n"
   ]
  },
  {
   "cell_type": "markdown",
   "id": "26d554c6",
   "metadata": {},
   "source": [
    "## Clients"
   ]
  },
  {
   "cell_type": "code",
   "execution_count": 2,
   "id": "68644167",
   "metadata": {
    "ExecuteTime": {
     "end_time": "2022-06-26T14:42:44.720859Z",
     "start_time": "2022-06-26T14:42:44.690865Z"
    }
   },
   "outputs": [],
   "source": [
    "# oppening datasets\n",
    "clients = pd.read_csv('clients.csv')"
   ]
  },
  {
   "cell_type": "code",
   "execution_count": 4,
   "id": "509a93ec",
   "metadata": {
    "ExecuteTime": {
     "end_time": "2022-06-25T14:13:26.610305Z",
     "start_time": "2022-06-25T14:13:26.517826Z"
    }
   },
   "outputs": [
    {
     "data": {
      "text/html": [
       "<div>\n",
       "<style scoped>\n",
       "    .dataframe tbody tr th:only-of-type {\n",
       "        vertical-align: middle;\n",
       "    }\n",
       "\n",
       "    .dataframe tbody tr th {\n",
       "        vertical-align: top;\n",
       "    }\n",
       "\n",
       "    .dataframe thead th {\n",
       "        text-align: right;\n",
       "    }\n",
       "</style>\n",
       "<table border=\"1\" class=\"dataframe\">\n",
       "  <thead>\n",
       "    <tr style=\"text-align: right;\">\n",
       "      <th></th>\n",
       "      <th>user_id</th>\n",
       "      <th>sign_up_date</th>\n",
       "    </tr>\n",
       "  </thead>\n",
       "  <tbody>\n",
       "    <tr>\n",
       "      <th>0</th>\n",
       "      <td>59a6c127e66d0507dc382dac</td>\n",
       "      <td>2017-08-30</td>\n",
       "    </tr>\n",
       "    <tr>\n",
       "      <th>1</th>\n",
       "      <td>5af8d15ce66d031e78734b0a</td>\n",
       "      <td>2018-05-13</td>\n",
       "    </tr>\n",
       "    <tr>\n",
       "      <th>2</th>\n",
       "      <td>5c4914c5e66d0315b4188471</td>\n",
       "      <td>2019-01-24</td>\n",
       "    </tr>\n",
       "    <tr>\n",
       "      <th>3</th>\n",
       "      <td>5c4914c5e66d0315b4188471</td>\n",
       "      <td>2019-01-24</td>\n",
       "    </tr>\n",
       "    <tr>\n",
       "      <th>4</th>\n",
       "      <td>5c4914c5e66d0315b4188471</td>\n",
       "      <td>2019-01-24</td>\n",
       "    </tr>\n",
       "    <tr>\n",
       "      <th>...</th>\n",
       "      <td>...</td>\n",
       "      <td>...</td>\n",
       "    </tr>\n",
       "    <tr>\n",
       "      <th>995</th>\n",
       "      <td>58a83f46e66d031ae88e8173</td>\n",
       "      <td>2017-02-18</td>\n",
       "    </tr>\n",
       "    <tr>\n",
       "      <th>996</th>\n",
       "      <td>59f9b10be66d0316fcf40a6d</td>\n",
       "      <td>2017-11-01</td>\n",
       "    </tr>\n",
       "    <tr>\n",
       "      <th>997</th>\n",
       "      <td>59f96418e66d031b3c9913fa</td>\n",
       "      <td>2017-11-01</td>\n",
       "    </tr>\n",
       "    <tr>\n",
       "      <th>998</th>\n",
       "      <td>59f9e6dce66d0316fcf41d89</td>\n",
       "      <td>2017-11-01</td>\n",
       "    </tr>\n",
       "    <tr>\n",
       "      <th>999</th>\n",
       "      <td>59f9e6dce66d0316fcf41d89</td>\n",
       "      <td>2017-11-01</td>\n",
       "    </tr>\n",
       "  </tbody>\n",
       "</table>\n",
       "<p>1000 rows × 2 columns</p>\n",
       "</div>"
      ],
      "text/plain": [
       "                      user_id sign_up_date\n",
       "0    59a6c127e66d0507dc382dac   2017-08-30\n",
       "1    5af8d15ce66d031e78734b0a   2018-05-13\n",
       "2    5c4914c5e66d0315b4188471   2019-01-24\n",
       "3    5c4914c5e66d0315b4188471   2019-01-24\n",
       "4    5c4914c5e66d0315b4188471   2019-01-24\n",
       "..                        ...          ...\n",
       "995  58a83f46e66d031ae88e8173   2017-02-18\n",
       "996  59f9b10be66d0316fcf40a6d   2017-11-01\n",
       "997  59f96418e66d031b3c9913fa   2017-11-01\n",
       "998  59f9e6dce66d0316fcf41d89   2017-11-01\n",
       "999  59f9e6dce66d0316fcf41d89   2017-11-01\n",
       "\n",
       "[1000 rows x 2 columns]"
      ]
     },
     "execution_count": 4,
     "metadata": {},
     "output_type": "execute_result"
    }
   ],
   "source": [
    "clients"
   ]
  },
  {
   "cell_type": "code",
   "execution_count": 8,
   "id": "542a46b5",
   "metadata": {
    "ExecuteTime": {
     "end_time": "2022-06-25T14:15:03.183916Z",
     "start_time": "2022-06-25T14:15:03.042180Z"
    }
   },
   "outputs": [
    {
     "name": "stdout",
     "output_type": "stream",
     "text": [
      "<class 'pandas.core.frame.DataFrame'>\n",
      "RangeIndex: 1000 entries, 0 to 999\n",
      "Data columns (total 2 columns):\n",
      " #   Column        Non-Null Count  Dtype \n",
      "---  ------        --------------  ----- \n",
      " 0   user_id       1000 non-null   object\n",
      " 1   sign_up_date  1000 non-null   object\n",
      "dtypes: object(2)\n",
      "memory usage: 15.8+ KB\n"
     ]
    }
   ],
   "source": [
    "#checking null values\n",
    "clients.info()"
   ]
  },
  {
   "cell_type": "code",
   "execution_count": 11,
   "id": "a1f0d419",
   "metadata": {
    "ExecuteTime": {
     "end_time": "2022-06-25T14:19:08.431063Z",
     "start_time": "2022-06-25T14:19:08.410912Z"
    }
   },
   "outputs": [
    {
     "data": {
      "text/plain": [
       "5c619e13e66d03057cb968d9    12\n",
       "5c96c3f2e66d032b9024a986    11\n",
       "58a4b221e66d03163058e835    10\n",
       "5b154524e66d0407c011e795    10\n",
       "59b14d36e66d031a9c2239c0    10\n",
       "                            ..\n",
       "5c9ac9a4e66d072290dd1b62     1\n",
       "5c92f953e66d0327208ea52a     1\n",
       "589c8b04e66d0315605539f6     1\n",
       "5c6cbe60e66d0324500f53f0     1\n",
       "5c4d1debe66d031524824978     1\n",
       "Name: user_id, Length: 447, dtype: int64"
      ]
     },
     "execution_count": 11,
     "metadata": {},
     "output_type": "execute_result"
    }
   ],
   "source": [
    "#checking duplicates\n",
    "clients['user_id'].value_counts()"
   ]
  },
  {
   "cell_type": "code",
   "execution_count": 12,
   "id": "5eb2d9d5",
   "metadata": {
    "ExecuteTime": {
     "end_time": "2022-06-25T14:19:37.686229Z",
     "start_time": "2022-06-25T14:19:37.663153Z"
    }
   },
   "outputs": [
    {
     "data": {
      "text/plain": [
       "2019-03-11    25\n",
       "2019-03-18    24\n",
       "2018-05-15    22\n",
       "2019-02-11    19\n",
       "2018-06-04    19\n",
       "              ..\n",
       "2017-09-22     1\n",
       "2017-09-17     1\n",
       "2017-09-09     1\n",
       "2017-10-31     1\n",
       "2017-01-30     1\n",
       "Name: sign_up_date, Length: 193, dtype: int64"
      ]
     },
     "execution_count": 12,
     "metadata": {},
     "output_type": "execute_result"
    }
   ],
   "source": [
    "clients['sign_up_date'].value_counts()"
   ]
  },
  {
   "cell_type": "code",
   "execution_count": 40,
   "id": "af020abc",
   "metadata": {
    "ExecuteTime": {
     "end_time": "2022-06-25T15:20:18.710469Z",
     "start_time": "2022-06-25T15:20:18.694362Z"
    }
   },
   "outputs": [],
   "source": [
    "# no null values founded\n",
    "# removing duplicates user_id\n",
    "clients = clients.drop_duplicates(subset='user_id',keep='first')\n"
   ]
  },
  {
   "cell_type": "code",
   "execution_count": 41,
   "id": "47ed3c85",
   "metadata": {
    "ExecuteTime": {
     "end_time": "2022-06-25T15:20:52.519867Z",
     "start_time": "2022-06-25T15:20:52.489012Z"
    }
   },
   "outputs": [
    {
     "data": {
      "text/plain": [
       "5c925054e66d0327208f203d    1\n",
       "5c62195fe66d0324a86517d3    1\n",
       "5c619e13e66d03057cb968d9    1\n",
       "5c607efbe66d03057c2c99b7    1\n",
       "5b486698e66d031c9cf26712    1\n",
       "                           ..\n",
       "5c6db43fe66d031254aa4a86    1\n",
       "5c608d37e66d03057c2ddf36    1\n",
       "5c8fab50e66d0309087c375b    1\n",
       "5b493753e66d031e9c1eb94c    1\n",
       "5c4d1debe66d031524824978    1\n",
       "Name: user_id, Length: 447, dtype: int64"
      ]
     },
     "execution_count": 41,
     "metadata": {},
     "output_type": "execute_result"
    }
   ],
   "source": [
    "clients['user_id'].value_counts()"
   ]
  },
  {
   "cell_type": "code",
   "execution_count": 42,
   "id": "ccb49652",
   "metadata": {
    "ExecuteTime": {
     "end_time": "2022-06-25T15:23:19.460277Z",
     "start_time": "2022-06-25T15:23:19.303986Z"
    }
   },
   "outputs": [],
   "source": [
    "#saving csv whithout duplicates\n",
    "clients.to_csv(\"clients_1.csv\")"
   ]
  },
  {
   "cell_type": "markdown",
   "id": "33f8912e",
   "metadata": {
    "ExecuteTime": {
     "end_time": "2022-06-25T14:14:48.600631Z",
     "start_time": "2022-06-25T14:14:47.341363Z"
    }
   },
   "source": [
    "## events"
   ]
  },
  {
   "cell_type": "code",
   "execution_count": 3,
   "id": "d1f3be18",
   "metadata": {
    "ExecuteTime": {
     "end_time": "2022-06-26T14:42:58.551926Z",
     "start_time": "2022-06-26T14:42:58.307346Z"
    }
   },
   "outputs": [],
   "source": [
    "events = pd.read_csv('events.csv')"
   ]
  },
  {
   "cell_type": "code",
   "execution_count": 17,
   "id": "ae14d662",
   "metadata": {
    "ExecuteTime": {
     "end_time": "2022-06-25T14:24:48.374356Z",
     "start_time": "2022-06-25T14:24:48.337026Z"
    }
   },
   "outputs": [
    {
     "name": "stdout",
     "output_type": "stream",
     "text": [
      "<class 'pandas.core.frame.DataFrame'>\n",
      "RangeIndex: 52118 entries, 0 to 52117\n",
      "Data columns (total 5 columns):\n",
      " #   Column                Non-Null Count  Dtype \n",
      "---  ------                --------------  ----- \n",
      " 0   session_id            52118 non-null  object\n",
      " 1   session_date          52118 non-null  object\n",
      " 2   client_user_id        52118 non-null  object\n",
      " 3   professional_user_id  52118 non-null  object\n",
      " 4   contact_reasons       36304 non-null  object\n",
      "dtypes: object(5)\n",
      "memory usage: 2.0+ MB\n"
     ]
    }
   ],
   "source": [
    "events.info()"
   ]
  },
  {
   "cell_type": "code",
   "execution_count": 21,
   "id": "8994e1ad",
   "metadata": {
    "ExecuteTime": {
     "end_time": "2022-06-25T14:25:24.552501Z",
     "start_time": "2022-06-25T14:25:24.540443Z"
    }
   },
   "outputs": [
    {
     "data": {
      "text/plain": [
       "(52118, 5)"
      ]
     },
     "execution_count": 21,
     "metadata": {},
     "output_type": "execute_result"
    }
   ],
   "source": [
    "events.shape"
   ]
  },
  {
   "cell_type": "code",
   "execution_count": 74,
   "id": "8b92dc9f",
   "metadata": {
    "ExecuteTime": {
     "end_time": "2022-06-25T16:25:43.015583Z",
     "start_time": "2022-06-25T16:25:42.979364Z"
    }
   },
   "outputs": [
    {
     "data": {
      "text/html": [
       "<div>\n",
       "<style scoped>\n",
       "    .dataframe tbody tr th:only-of-type {\n",
       "        vertical-align: middle;\n",
       "    }\n",
       "\n",
       "    .dataframe tbody tr th {\n",
       "        vertical-align: top;\n",
       "    }\n",
       "\n",
       "    .dataframe thead th {\n",
       "        text-align: right;\n",
       "    }\n",
       "</style>\n",
       "<table border=\"1\" class=\"dataframe\">\n",
       "  <thead>\n",
       "    <tr style=\"text-align: right;\">\n",
       "      <th></th>\n",
       "      <th>session_id</th>\n",
       "      <th>session_date</th>\n",
       "      <th>client_user_id</th>\n",
       "      <th>professional_user_id</th>\n",
       "      <th>contact_reasons</th>\n",
       "    </tr>\n",
       "  </thead>\n",
       "  <tbody>\n",
       "    <tr>\n",
       "      <th>0</th>\n",
       "      <td>60e7a5939beb2200116859cc</td>\n",
       "      <td>2021-07-09T23:00:00Z</td>\n",
       "      <td>5f4bfbb5d7e0014e10e9653b</td>\n",
       "      <td>5e1d48550c3e7c3b9989df01</td>\n",
       "      <td>[\"reason:self-knowledge\",\"reason:borderline\",\"...</td>\n",
       "    </tr>\n",
       "    <tr>\n",
       "      <th>1</th>\n",
       "      <td>5fe271f5b42c6c6bd693c181</td>\n",
       "      <td>2020-12-22T22:30:00Z</td>\n",
       "      <td>5fd63eb96c65bc304fa6a7a4</td>\n",
       "      <td>57edc1cde66d0a12e47ff2fc</td>\n",
       "      <td>[\"reason:adolescence\"]</td>\n",
       "    </tr>\n",
       "    <tr>\n",
       "      <th>2</th>\n",
       "      <td>5e99d083e85bc054959f1900</td>\n",
       "      <td>2020-04-28T15:00:00Z</td>\n",
       "      <td>5e36c6c3dc16745036e35e3c</td>\n",
       "      <td>596cc8bfe66d031cd8a5aabc</td>\n",
       "      <td>[\"reason:self-esteem\",\"reason:love-relationship\"]</td>\n",
       "    </tr>\n",
       "    <tr>\n",
       "      <th>3</th>\n",
       "      <td>61687afac4ab1a0012d34550</td>\n",
       "      <td>2021-10-18T19:00:00Z</td>\n",
       "      <td>5ed441af2b50d2298e5fdaae</td>\n",
       "      <td>57eee7bce66d0311d0169267</td>\n",
       "      <td>[\"reason:self-knowledge\",\"reason:assertiveness...</td>\n",
       "    </tr>\n",
       "    <tr>\n",
       "      <th>4</th>\n",
       "      <td>5fc53286bb7b433824734aef</td>\n",
       "      <td>2020-12-07T17:00:00Z</td>\n",
       "      <td>5d3460e54ec5c1470d29322b</td>\n",
       "      <td>57edc1cde66d0a12e47ff2fc</td>\n",
       "      <td>[\"reason:burnout\",\"reason:self-knowledge\"]</td>\n",
       "    </tr>\n",
       "  </tbody>\n",
       "</table>\n",
       "</div>"
      ],
      "text/plain": [
       "                 session_id          session_date            client_user_id  \\\n",
       "0  60e7a5939beb2200116859cc  2021-07-09T23:00:00Z  5f4bfbb5d7e0014e10e9653b   \n",
       "1  5fe271f5b42c6c6bd693c181  2020-12-22T22:30:00Z  5fd63eb96c65bc304fa6a7a4   \n",
       "2  5e99d083e85bc054959f1900  2020-04-28T15:00:00Z  5e36c6c3dc16745036e35e3c   \n",
       "3  61687afac4ab1a0012d34550  2021-10-18T19:00:00Z  5ed441af2b50d2298e5fdaae   \n",
       "4  5fc53286bb7b433824734aef  2020-12-07T17:00:00Z  5d3460e54ec5c1470d29322b   \n",
       "\n",
       "       professional_user_id                                    contact_reasons  \n",
       "0  5e1d48550c3e7c3b9989df01  [\"reason:self-knowledge\",\"reason:borderline\",\"...  \n",
       "1  57edc1cde66d0a12e47ff2fc                             [\"reason:adolescence\"]  \n",
       "2  596cc8bfe66d031cd8a5aabc  [\"reason:self-esteem\",\"reason:love-relationship\"]  \n",
       "3  57eee7bce66d0311d0169267  [\"reason:self-knowledge\",\"reason:assertiveness...  \n",
       "4  57edc1cde66d0a12e47ff2fc         [\"reason:burnout\",\"reason:self-knowledge\"]  "
      ]
     },
     "execution_count": 74,
     "metadata": {},
     "output_type": "execute_result"
    }
   ],
   "source": [
    "events.head()"
   ]
  },
  {
   "cell_type": "code",
   "execution_count": 60,
   "id": "35ce2536",
   "metadata": {
    "ExecuteTime": {
     "end_time": "2022-06-25T16:22:45.252121Z",
     "start_time": "2022-06-25T16:22:45.207578Z"
    }
   },
   "outputs": [
    {
     "data": {
      "text/plain": [
       "2021-12-01T21:00:00Z    31\n",
       "2021-11-17T22:00:00Z    28\n",
       "2021-11-03T21:00:00Z    26\n",
       "2021-11-11T22:00:00Z    26\n",
       "2021-11-23T22:00:00Z    25\n",
       "                        ..\n",
       "2020-03-31T23:00:00Z     1\n",
       "2021-08-11T12:30:00Z     1\n",
       "2021-10-05T18:06:00Z     1\n",
       "2021-04-11T23:30:00Z     1\n",
       "2018-09-13T20:00:00Z     1\n",
       "Name: session_date, Length: 17881, dtype: int64"
      ]
     },
     "execution_count": 60,
     "metadata": {},
     "output_type": "execute_result"
    }
   ],
   "source": [
    "events['session_date'].value_counts()"
   ]
  },
  {
   "cell_type": "code",
   "execution_count": 56,
   "id": "b67a4cfb",
   "metadata": {
    "ExecuteTime": {
     "end_time": "2022-06-25T16:21:38.145053Z",
     "start_time": "2022-06-25T16:21:37.997535Z"
    }
   },
   "outputs": [
    {
     "data": {
      "text/plain": [
       "5dffea7ab1ef611ece403ac5    1\n",
       "611148151b6c730011d4175a    1\n",
       "60e89af4a23ce900119f7108    1\n",
       "6129a016224b7b0011569c3d    1\n",
       "5ea9acaaed80623caf43bd54    1\n",
       "                           ..\n",
       "5f6d6255a4dfe85c06831718    1\n",
       "5f5a3e4bf1f4fd7b4691200c    1\n",
       "5f9acd6bb09d42034f8a58b3    1\n",
       "61aa8362316c030011c84ae9    1\n",
       "60de17789beb2200114af750    1\n",
       "Name: session_id, Length: 52118, dtype: int64"
      ]
     },
     "execution_count": 56,
     "metadata": {},
     "output_type": "execute_result"
    }
   ],
   "source": [
    "events['session_id'].value_counts()"
   ]
  },
  {
   "cell_type": "code",
   "execution_count": 81,
   "id": "56a8ed13",
   "metadata": {
    "ExecuteTime": {
     "end_time": "2022-06-25T18:16:41.612816Z",
     "start_time": "2022-06-25T18:16:41.335078Z"
    }
   },
   "outputs": [
    {
     "data": {
      "text/plain": [
       "5d226a68e66d03164079cfa5    61\n",
       "5d364f34ae7b7764cad01505    58\n",
       "5aa7ab00777d4504d7273599    33\n",
       "5d3ebfbdf5f5e01d6e05daf9    33\n",
       "61043ee8995ee700112d9d5d    19\n",
       "                            ..\n",
       "5ebd5ef809fbd77ad1dec126     1\n",
       "5fec553d9f48031126ffa337     1\n",
       "5f3687c23fd1a046e14eaf0e     1\n",
       "5f667d8652aae0700b265d99     1\n",
       "61365af9df6eca00127a1930     1\n",
       "Name: client_user_id, Length: 30971, dtype: int64"
      ]
     },
     "execution_count": 81,
     "metadata": {},
     "output_type": "execute_result"
    }
   ],
   "source": [
    "events['client_user_id'].value_counts()"
   ]
  },
  {
   "cell_type": "code",
   "execution_count": 82,
   "id": "5332d0f7",
   "metadata": {
    "ExecuteTime": {
     "end_time": "2022-06-25T18:40:32.464457Z",
     "start_time": "2022-06-25T18:40:32.387610Z"
    }
   },
   "outputs": [
    {
     "data": {
      "text/plain": [
       "[\"reason:anxiety\"]                                                                                                                5629\n",
       "[\"reason:self-knowledge\"]                                                                                                         5274\n",
       "[\"reason:love-relationship\"]                                                                                                      2115\n",
       "[]                                                                                                                                2007\n",
       "[\"reason:anguish\"]                                                                                                                1217\n",
       "                                                                                                                                  ... \n",
       "[\"reason:parents\",\"reason:family-conflicts\",\"reason:love-relationship\"]                                                              1\n",
       "[\"reason:anguish\",\"reason:country-change-state-change-city-change\"]                                                                  1\n",
       "[\"reason:anxiety\",\"reason:covid\",\"reason:career-purpose\"]                                                                            1\n",
       "[\"reason:resilience\",\"reason:family-conflicts\"]                                                                                      1\n",
       "[\"reason:anxiety\",\"reason:self-knowledge\",\"reason:self-steem\",\"reason:procrastination\",\"reason:obsessive-compulsive-disorder\"]       1\n",
       "Name: contact_reasons, Length: 5902, dtype: int64"
      ]
     },
     "execution_count": 82,
     "metadata": {},
     "output_type": "execute_result"
    }
   ],
   "source": [
    "events['contact_reasons'].value_counts()"
   ]
  },
  {
   "cell_type": "code",
   "execution_count": 11,
   "id": "29452c0f",
   "metadata": {
    "ExecuteTime": {
     "end_time": "2022-06-26T20:23:01.117047Z",
     "start_time": "2022-06-26T20:23:00.748440Z"
    }
   },
   "outputs": [],
   "source": [
    "#cleanning session_date column\n",
    "import regex as re\n",
    "events['session_date']=events['session_date'].apply(lambda x: x.split('T')[0])\n",
    "#cleanning contact_reasons column\n",
    "events['contact_reasons']=events['contact_reasons'].str.replace('reason','')\n"
   ]
  },
  {
   "cell_type": "code",
   "execution_count": 12,
   "id": "5331ac9b",
   "metadata": {
    "ExecuteTime": {
     "end_time": "2022-06-26T20:23:05.152604Z",
     "start_time": "2022-06-26T20:23:05.097733Z"
    }
   },
   "outputs": [
    {
     "data": {
      "text/html": [
       "<div>\n",
       "<style scoped>\n",
       "    .dataframe tbody tr th:only-of-type {\n",
       "        vertical-align: middle;\n",
       "    }\n",
       "\n",
       "    .dataframe tbody tr th {\n",
       "        vertical-align: top;\n",
       "    }\n",
       "\n",
       "    .dataframe thead th {\n",
       "        text-align: right;\n",
       "    }\n",
       "</style>\n",
       "<table border=\"1\" class=\"dataframe\">\n",
       "  <thead>\n",
       "    <tr style=\"text-align: right;\">\n",
       "      <th></th>\n",
       "      <th>session_id</th>\n",
       "      <th>session_date</th>\n",
       "      <th>client_user_id</th>\n",
       "      <th>professional_user_id</th>\n",
       "      <th>contact_reasons</th>\n",
       "    </tr>\n",
       "  </thead>\n",
       "  <tbody>\n",
       "    <tr>\n",
       "      <th>0</th>\n",
       "      <td>60e7a5939beb2200116859cc</td>\n",
       "      <td>2021-07-09T23:00:00Z</td>\n",
       "      <td>5f4bfbb5d7e0014e10e9653b</td>\n",
       "      <td>5e1d48550c3e7c3b9989df01</td>\n",
       "      <td>[\":self-knowledge\",\":borderline\",\":love-relati...</td>\n",
       "    </tr>\n",
       "    <tr>\n",
       "      <th>1</th>\n",
       "      <td>5fe271f5b42c6c6bd693c181</td>\n",
       "      <td>2020-12-22T22:30:00Z</td>\n",
       "      <td>5fd63eb96c65bc304fa6a7a4</td>\n",
       "      <td>57edc1cde66d0a12e47ff2fc</td>\n",
       "      <td>[\":adolescence\"]</td>\n",
       "    </tr>\n",
       "    <tr>\n",
       "      <th>2</th>\n",
       "      <td>5e99d083e85bc054959f1900</td>\n",
       "      <td>2020-04-28T15:00:00Z</td>\n",
       "      <td>5e36c6c3dc16745036e35e3c</td>\n",
       "      <td>596cc8bfe66d031cd8a5aabc</td>\n",
       "      <td>[\":self-esteem\",\":love-relationship\"]</td>\n",
       "    </tr>\n",
       "    <tr>\n",
       "      <th>3</th>\n",
       "      <td>61687afac4ab1a0012d34550</td>\n",
       "      <td>2021-10-18T19:00:00Z</td>\n",
       "      <td>5ed441af2b50d2298e5fdaae</td>\n",
       "      <td>57eee7bce66d0311d0169267</td>\n",
       "      <td>[\":self-knowledge\",\":assertiveness\",\":self-ste...</td>\n",
       "    </tr>\n",
       "    <tr>\n",
       "      <th>4</th>\n",
       "      <td>5fc53286bb7b433824734aef</td>\n",
       "      <td>2020-12-07T17:00:00Z</td>\n",
       "      <td>5d3460e54ec5c1470d29322b</td>\n",
       "      <td>57edc1cde66d0a12e47ff2fc</td>\n",
       "      <td>[\":burnout\",\":self-knowledge\"]</td>\n",
       "    </tr>\n",
       "    <tr>\n",
       "      <th>...</th>\n",
       "      <td>...</td>\n",
       "      <td>...</td>\n",
       "      <td>...</td>\n",
       "      <td>...</td>\n",
       "      <td>...</td>\n",
       "    </tr>\n",
       "    <tr>\n",
       "      <th>52113</th>\n",
       "      <td>6000419ed8b1c97e020847a1</td>\n",
       "      <td>2021-01-15T22:00:00Z</td>\n",
       "      <td>5f440d011239d041197b7186</td>\n",
       "      <td>5ebdeae609fbd77ad1e0ce76</td>\n",
       "      <td>[\"session-outcome:no-show-client\"]</td>\n",
       "    </tr>\n",
       "    <tr>\n",
       "      <th>52114</th>\n",
       "      <td>5fb7f87c9d82fc67066ba65d</td>\n",
       "      <td>2020-12-02T13:00:00Z</td>\n",
       "      <td>5be82a1be66d031e24dc47d4</td>\n",
       "      <td>5d6451e6aace4f353f38e90d</td>\n",
       "      <td>[\"session-outcome:no-show-client\"]</td>\n",
       "    </tr>\n",
       "    <tr>\n",
       "      <th>52115</th>\n",
       "      <td>607dfbff21f0911ba2cf0524</td>\n",
       "      <td>2021-04-28T14:00:00Z</td>\n",
       "      <td>6074ad7ba37c9d053f4f7cba</td>\n",
       "      <td>5fa56e49c84d3879ae52d441</td>\n",
       "      <td>[\"session-outcome:no-show-client\"]</td>\n",
       "    </tr>\n",
       "    <tr>\n",
       "      <th>52116</th>\n",
       "      <td>6021c976cfa66d762d279711</td>\n",
       "      <td>2021-02-09T18:00:00Z</td>\n",
       "      <td>6009f4cb0fc6022100b5b195</td>\n",
       "      <td>5c5aee57e66d0328609c99f1</td>\n",
       "      <td>[\"session-outcome:no-show-client\"]</td>\n",
       "    </tr>\n",
       "    <tr>\n",
       "      <th>52117</th>\n",
       "      <td>5fa14b0880ff765c87bf3891</td>\n",
       "      <td>2020-12-09T19:00:00Z</td>\n",
       "      <td>5f8be6224dd23f712faab795</td>\n",
       "      <td>5d86747a74732a4503de946d</td>\n",
       "      <td>[\"session-outcome:no-show-client\"]</td>\n",
       "    </tr>\n",
       "  </tbody>\n",
       "</table>\n",
       "<p>52118 rows × 5 columns</p>\n",
       "</div>"
      ],
      "text/plain": [
       "                     session_id          session_date  \\\n",
       "0      60e7a5939beb2200116859cc  2021-07-09T23:00:00Z   \n",
       "1      5fe271f5b42c6c6bd693c181  2020-12-22T22:30:00Z   \n",
       "2      5e99d083e85bc054959f1900  2020-04-28T15:00:00Z   \n",
       "3      61687afac4ab1a0012d34550  2021-10-18T19:00:00Z   \n",
       "4      5fc53286bb7b433824734aef  2020-12-07T17:00:00Z   \n",
       "...                         ...                   ...   \n",
       "52113  6000419ed8b1c97e020847a1  2021-01-15T22:00:00Z   \n",
       "52114  5fb7f87c9d82fc67066ba65d  2020-12-02T13:00:00Z   \n",
       "52115  607dfbff21f0911ba2cf0524  2021-04-28T14:00:00Z   \n",
       "52116  6021c976cfa66d762d279711  2021-02-09T18:00:00Z   \n",
       "52117  5fa14b0880ff765c87bf3891  2020-12-09T19:00:00Z   \n",
       "\n",
       "                 client_user_id      professional_user_id  \\\n",
       "0      5f4bfbb5d7e0014e10e9653b  5e1d48550c3e7c3b9989df01   \n",
       "1      5fd63eb96c65bc304fa6a7a4  57edc1cde66d0a12e47ff2fc   \n",
       "2      5e36c6c3dc16745036e35e3c  596cc8bfe66d031cd8a5aabc   \n",
       "3      5ed441af2b50d2298e5fdaae  57eee7bce66d0311d0169267   \n",
       "4      5d3460e54ec5c1470d29322b  57edc1cde66d0a12e47ff2fc   \n",
       "...                         ...                       ...   \n",
       "52113  5f440d011239d041197b7186  5ebdeae609fbd77ad1e0ce76   \n",
       "52114  5be82a1be66d031e24dc47d4  5d6451e6aace4f353f38e90d   \n",
       "52115  6074ad7ba37c9d053f4f7cba  5fa56e49c84d3879ae52d441   \n",
       "52116  6009f4cb0fc6022100b5b195  5c5aee57e66d0328609c99f1   \n",
       "52117  5f8be6224dd23f712faab795  5d86747a74732a4503de946d   \n",
       "\n",
       "                                         contact_reasons  \n",
       "0      [\":self-knowledge\",\":borderline\",\":love-relati...  \n",
       "1                                       [\":adolescence\"]  \n",
       "2                  [\":self-esteem\",\":love-relationship\"]  \n",
       "3      [\":self-knowledge\",\":assertiveness\",\":self-ste...  \n",
       "4                         [\":burnout\",\":self-knowledge\"]  \n",
       "...                                                  ...  \n",
       "52113                 [\"session-outcome:no-show-client\"]  \n",
       "52114                 [\"session-outcome:no-show-client\"]  \n",
       "52115                 [\"session-outcome:no-show-client\"]  \n",
       "52116                 [\"session-outcome:no-show-client\"]  \n",
       "52117                 [\"session-outcome:no-show-client\"]  \n",
       "\n",
       "[52118 rows x 5 columns]"
      ]
     },
     "execution_count": 12,
     "metadata": {},
     "output_type": "execute_result"
    }
   ],
   "source": [
    "events"
   ]
  },
  {
   "cell_type": "code",
   "execution_count": 13,
   "id": "4eacf19c",
   "metadata": {
    "ExecuteTime": {
     "end_time": "2022-06-26T20:23:46.681630Z",
     "start_time": "2022-06-26T20:23:45.968774Z"
    }
   },
   "outputs": [],
   "source": [
    "#saving csv date_session modified\n",
    "events.to_csv(\"events_1.csv\")"
   ]
  },
  {
   "cell_type": "markdown",
   "id": "c355d3d1",
   "metadata": {},
   "source": [
    "## Professionals"
   ]
  },
  {
   "cell_type": "code",
   "execution_count": 28,
   "id": "3e8e4bfb",
   "metadata": {
    "ExecuteTime": {
     "end_time": "2022-06-25T14:30:11.176078Z",
     "start_time": "2022-06-25T14:30:11.045330Z"
    }
   },
   "outputs": [
    {
     "data": {
      "text/html": [
       "<div>\n",
       "<style scoped>\n",
       "    .dataframe tbody tr th:only-of-type {\n",
       "        vertical-align: middle;\n",
       "    }\n",
       "\n",
       "    .dataframe tbody tr th {\n",
       "        vertical-align: top;\n",
       "    }\n",
       "\n",
       "    .dataframe thead th {\n",
       "        text-align: right;\n",
       "    }\n",
       "</style>\n",
       "<table border=\"1\" class=\"dataframe\">\n",
       "  <thead>\n",
       "    <tr style=\"text-align: right;\">\n",
       "      <th></th>\n",
       "      <th>professional_user_id</th>\n",
       "      <th>sign_up_date</th>\n",
       "      <th>professional_type</th>\n",
       "      <th>gender</th>\n",
       "      <th>price</th>\n",
       "      <th>is_accepting_half_hour</th>\n",
       "      <th>is_gold</th>\n",
       "      <th>is_diamond</th>\n",
       "      <th>is_silver</th>\n",
       "    </tr>\n",
       "  </thead>\n",
       "  <tbody>\n",
       "    <tr>\n",
       "      <th>0</th>\n",
       "      <td>57edbf05e66d0a12e47ff296</td>\n",
       "      <td>2019-05-03</td>\n",
       "      <td>psychologist</td>\n",
       "      <td>f</td>\n",
       "      <td>150.0</td>\n",
       "      <td>False</td>\n",
       "      <td>True</td>\n",
       "      <td>False</td>\n",
       "      <td>True</td>\n",
       "    </tr>\n",
       "    <tr>\n",
       "      <th>1</th>\n",
       "      <td>57edbf05e66d0a12e47ff296</td>\n",
       "      <td>2019-05-03</td>\n",
       "      <td>psychologist</td>\n",
       "      <td>f</td>\n",
       "      <td>150.0</td>\n",
       "      <td>False</td>\n",
       "      <td>True</td>\n",
       "      <td>False</td>\n",
       "      <td>True</td>\n",
       "    </tr>\n",
       "    <tr>\n",
       "      <th>2</th>\n",
       "      <td>57edbf05e66d0a12e47ff296</td>\n",
       "      <td>2019-05-03</td>\n",
       "      <td>psychologist</td>\n",
       "      <td>f</td>\n",
       "      <td>150.0</td>\n",
       "      <td>False</td>\n",
       "      <td>True</td>\n",
       "      <td>False</td>\n",
       "      <td>True</td>\n",
       "    </tr>\n",
       "    <tr>\n",
       "      <th>3</th>\n",
       "      <td>57edbf05e66d0a12e47ff296</td>\n",
       "      <td>2019-05-03</td>\n",
       "      <td>psychologist</td>\n",
       "      <td>f</td>\n",
       "      <td>150.0</td>\n",
       "      <td>False</td>\n",
       "      <td>True</td>\n",
       "      <td>False</td>\n",
       "      <td>True</td>\n",
       "    </tr>\n",
       "    <tr>\n",
       "      <th>4</th>\n",
       "      <td>57edbf05e66d0a12e47ff296</td>\n",
       "      <td>2019-05-03</td>\n",
       "      <td>psychologist</td>\n",
       "      <td>f</td>\n",
       "      <td>150.0</td>\n",
       "      <td>False</td>\n",
       "      <td>True</td>\n",
       "      <td>False</td>\n",
       "      <td>True</td>\n",
       "    </tr>\n",
       "  </tbody>\n",
       "</table>\n",
       "</div>"
      ],
      "text/plain": [
       "       professional_user_id sign_up_date professional_type gender  price  \\\n",
       "0  57edbf05e66d0a12e47ff296   2019-05-03      psychologist      f  150.0   \n",
       "1  57edbf05e66d0a12e47ff296   2019-05-03      psychologist      f  150.0   \n",
       "2  57edbf05e66d0a12e47ff296   2019-05-03      psychologist      f  150.0   \n",
       "3  57edbf05e66d0a12e47ff296   2019-05-03      psychologist      f  150.0   \n",
       "4  57edbf05e66d0a12e47ff296   2019-05-03      psychologist      f  150.0   \n",
       "\n",
       "  is_accepting_half_hour is_gold is_diamond is_silver  \n",
       "0                  False    True      False      True  \n",
       "1                  False    True      False      True  \n",
       "2                  False    True      False      True  \n",
       "3                  False    True      False      True  \n",
       "4                  False    True      False      True  "
      ]
     },
     "execution_count": 28,
     "metadata": {},
     "output_type": "execute_result"
    }
   ],
   "source": [
    "prof = pd.read_csv('proessionals.csv')\n",
    "prof.head()"
   ]
  },
  {
   "cell_type": "code",
   "execution_count": 46,
   "id": "708b6922",
   "metadata": {
    "ExecuteTime": {
     "end_time": "2022-06-25T15:38:28.017970Z",
     "start_time": "2022-06-25T15:38:27.978404Z"
    }
   },
   "outputs": [
    {
     "data": {
      "text/plain": [
       "f     2192\n",
       "m      555\n",
       "nb       6\n",
       "Name: gender, dtype: int64"
      ]
     },
     "execution_count": 46,
     "metadata": {},
     "output_type": "execute_result"
    }
   ],
   "source": [
    "prof['gender'].value_counts()"
   ]
  },
  {
   "cell_type": "code",
   "execution_count": 30,
   "id": "b5d00796",
   "metadata": {
    "ExecuteTime": {
     "end_time": "2022-06-25T14:31:27.268855Z",
     "start_time": "2022-06-25T14:31:27.235908Z"
    }
   },
   "outputs": [
    {
     "name": "stdout",
     "output_type": "stream",
     "text": [
      "<class 'pandas.core.frame.DataFrame'>\n",
      "RangeIndex: 2753 entries, 0 to 2752\n",
      "Data columns (total 9 columns):\n",
      " #   Column                  Non-Null Count  Dtype  \n",
      "---  ------                  --------------  -----  \n",
      " 0   professional_user_id    2753 non-null   object \n",
      " 1   sign_up_date            2753 non-null   object \n",
      " 2   professional_type       2753 non-null   object \n",
      " 3   gender                  2753 non-null   object \n",
      " 4   price                   2753 non-null   float64\n",
      " 5   is_accepting_half_hour  2665 non-null   object \n",
      " 6   is_gold                 2739 non-null   object \n",
      " 7   is_diamond              2739 non-null   object \n",
      " 8   is_silver               2739 non-null   object \n",
      "dtypes: float64(1), object(8)\n",
      "memory usage: 193.7+ KB\n"
     ]
    }
   ],
   "source": [
    "prof.info()"
   ]
  },
  {
   "cell_type": "code",
   "execution_count": 31,
   "id": "3fa0c12a",
   "metadata": {
    "ExecuteTime": {
     "end_time": "2022-06-25T14:31:54.680232Z",
     "start_time": "2022-06-25T14:31:54.624989Z"
    }
   },
   "outputs": [
    {
     "data": {
      "text/plain": [
       "(2753, 9)"
      ]
     },
     "execution_count": 31,
     "metadata": {},
     "output_type": "execute_result"
    }
   ],
   "source": [
    "prof.shape"
   ]
  },
  {
   "cell_type": "code",
   "execution_count": 44,
   "id": "69f8d6cf",
   "metadata": {
    "ExecuteTime": {
     "end_time": "2022-06-25T15:31:42.116800Z",
     "start_time": "2022-06-25T15:31:42.080667Z"
    }
   },
   "outputs": [],
   "source": [
    "# removing duplicates user_id\n",
    "professionals = prof.drop_duplicates(subset='professional_user_id',keep='first')"
   ]
  },
  {
   "cell_type": "code",
   "execution_count": 45,
   "id": "2e8ab964",
   "metadata": {
    "ExecuteTime": {
     "end_time": "2022-06-25T15:32:26.789508Z",
     "start_time": "2022-06-25T15:32:26.747591Z"
    }
   },
   "outputs": [],
   "source": [
    "#saving csv whithout duplicates\n",
    "professionals.to_csv(\"professionals_1.csv\")"
   ]
  },
  {
   "cell_type": "markdown",
   "id": "471a7f11",
   "metadata": {},
   "source": [
    "## Ratings"
   ]
  },
  {
   "cell_type": "code",
   "execution_count": 33,
   "id": "88a7d38b",
   "metadata": {
    "ExecuteTime": {
     "end_time": "2022-06-25T14:32:58.127562Z",
     "start_time": "2022-06-25T14:32:58.097092Z"
    }
   },
   "outputs": [],
   "source": [
    "ratings = pd.read_csv('ratings.csv')"
   ]
  },
  {
   "cell_type": "code",
   "execution_count": 35,
   "id": "ac5a7407",
   "metadata": {
    "ExecuteTime": {
     "end_time": "2022-06-25T14:33:23.292584Z",
     "start_time": "2022-06-25T14:33:23.268868Z"
    }
   },
   "outputs": [
    {
     "data": {
      "text/html": [
       "<div>\n",
       "<style scoped>\n",
       "    .dataframe tbody tr th:only-of-type {\n",
       "        vertical-align: middle;\n",
       "    }\n",
       "\n",
       "    .dataframe tbody tr th {\n",
       "        vertical-align: top;\n",
       "    }\n",
       "\n",
       "    .dataframe thead th {\n",
       "        text-align: right;\n",
       "    }\n",
       "</style>\n",
       "<table border=\"1\" class=\"dataframe\">\n",
       "  <thead>\n",
       "    <tr style=\"text-align: right;\">\n",
       "      <th></th>\n",
       "      <th>rating_id</th>\n",
       "      <th>client_user_id</th>\n",
       "      <th>professional_user_id</th>\n",
       "      <th>value</th>\n",
       "      <th>is_valid</th>\n",
       "      <th>is_visible</th>\n",
       "    </tr>\n",
       "  </thead>\n",
       "  <tbody>\n",
       "    <tr>\n",
       "      <th>0</th>\n",
       "      <td>316</td>\n",
       "      <td>59810f80e66d0313b89e3e24</td>\n",
       "      <td>5926f1ade66d03158036746e</td>\n",
       "      <td>5</td>\n",
       "      <td>True</td>\n",
       "      <td>True</td>\n",
       "    </tr>\n",
       "    <tr>\n",
       "      <th>1</th>\n",
       "      <td>314</td>\n",
       "      <td>5984c571e66d03048823c46d</td>\n",
       "      <td>5926f1ade66d03158036746e</td>\n",
       "      <td>5</td>\n",
       "      <td>True</td>\n",
       "      <td>True</td>\n",
       "    </tr>\n",
       "    <tr>\n",
       "      <th>2</th>\n",
       "      <td>345</td>\n",
       "      <td>5988cfd6e66d0714d063a9ee</td>\n",
       "      <td>5926f1ade66d03158036746e</td>\n",
       "      <td>5</td>\n",
       "      <td>True</td>\n",
       "      <td>True</td>\n",
       "    </tr>\n",
       "    <tr>\n",
       "      <th>3</th>\n",
       "      <td>357</td>\n",
       "      <td>59a6043be66d0307dc24bf48</td>\n",
       "      <td>5926f1ade66d03158036746e</td>\n",
       "      <td>5</td>\n",
       "      <td>True</td>\n",
       "      <td>False</td>\n",
       "    </tr>\n",
       "    <tr>\n",
       "      <th>4</th>\n",
       "      <td>442</td>\n",
       "      <td>59d2dce1e66d031b880b7e30</td>\n",
       "      <td>5926f1ade66d03158036746e</td>\n",
       "      <td>5</td>\n",
       "      <td>True</td>\n",
       "      <td>False</td>\n",
       "    </tr>\n",
       "  </tbody>\n",
       "</table>\n",
       "</div>"
      ],
      "text/plain": [
       "   rating_id            client_user_id      professional_user_id  value  \\\n",
       "0        316  59810f80e66d0313b89e3e24  5926f1ade66d03158036746e      5   \n",
       "1        314  5984c571e66d03048823c46d  5926f1ade66d03158036746e      5   \n",
       "2        345  5988cfd6e66d0714d063a9ee  5926f1ade66d03158036746e      5   \n",
       "3        357  59a6043be66d0307dc24bf48  5926f1ade66d03158036746e      5   \n",
       "4        442  59d2dce1e66d031b880b7e30  5926f1ade66d03158036746e      5   \n",
       "\n",
       "   is_valid  is_visible  \n",
       "0      True        True  \n",
       "1      True        True  \n",
       "2      True        True  \n",
       "3      True       False  \n",
       "4      True       False  "
      ]
     },
     "execution_count": 35,
     "metadata": {},
     "output_type": "execute_result"
    }
   ],
   "source": [
    "ratings.head()"
   ]
  },
  {
   "cell_type": "code",
   "execution_count": 37,
   "id": "10aa1cf8",
   "metadata": {
    "ExecuteTime": {
     "end_time": "2022-06-25T14:33:58.977055Z",
     "start_time": "2022-06-25T14:33:58.958621Z"
    }
   },
   "outputs": [
    {
     "data": {
      "text/plain": [
       "(5000, 6)"
      ]
     },
     "execution_count": 37,
     "metadata": {},
     "output_type": "execute_result"
    }
   ],
   "source": [
    "ratings.shape"
   ]
  },
  {
   "cell_type": "code",
   "execution_count": 38,
   "id": "2f33e9d2",
   "metadata": {
    "ExecuteTime": {
     "end_time": "2022-06-25T14:34:06.637709Z",
     "start_time": "2022-06-25T14:34:06.606066Z"
    }
   },
   "outputs": [
    {
     "name": "stdout",
     "output_type": "stream",
     "text": [
      "<class 'pandas.core.frame.DataFrame'>\n",
      "RangeIndex: 5000 entries, 0 to 4999\n",
      "Data columns (total 6 columns):\n",
      " #   Column                Non-Null Count  Dtype \n",
      "---  ------                --------------  ----- \n",
      " 0   rating_id             5000 non-null   int64 \n",
      " 1   client_user_id        5000 non-null   object\n",
      " 2   professional_user_id  5000 non-null   object\n",
      " 3   value                 5000 non-null   int64 \n",
      " 4   is_valid              5000 non-null   bool  \n",
      " 5   is_visible            5000 non-null   bool  \n",
      "dtypes: bool(2), int64(2), object(2)\n",
      "memory usage: 166.1+ KB\n"
     ]
    }
   ],
   "source": [
    "ratings.info()"
   ]
  },
  {
   "cell_type": "code",
   "execution_count": 83,
   "id": "792e906d",
   "metadata": {
    "ExecuteTime": {
     "end_time": "2022-06-25T19:09:15.599772Z",
     "start_time": "2022-06-25T19:09:15.537653Z"
    }
   },
   "outputs": [
    {
     "data": {
      "text/plain": [
       "5    4904\n",
       "4      70\n",
       "3      19\n",
       "1       7\n",
       "Name: value, dtype: int64"
      ]
     },
     "execution_count": 83,
     "metadata": {},
     "output_type": "execute_result"
    }
   ],
   "source": [
    "ratings['value'].value_counts()"
   ]
  }
 ],
 "metadata": {
  "kernelspec": {
   "display_name": "Python 3",
   "language": "python",
   "name": "python3"
  },
  "language_info": {
   "codemirror_mode": {
    "name": "ipython",
    "version": 3
   },
   "file_extension": ".py",
   "mimetype": "text/x-python",
   "name": "python",
   "nbconvert_exporter": "python",
   "pygments_lexer": "ipython3",
   "version": "3.8.8"
  },
  "toc": {
   "base_numbering": 1,
   "nav_menu": {},
   "number_sections": true,
   "sideBar": true,
   "skip_h1_title": false,
   "title_cell": "Table of Contents",
   "title_sidebar": "Contents",
   "toc_cell": false,
   "toc_position": {},
   "toc_section_display": true,
   "toc_window_display": false
  },
  "varInspector": {
   "cols": {
    "lenName": 16,
    "lenType": 16,
    "lenVar": 40
   },
   "kernels_config": {
    "python": {
     "delete_cmd_postfix": "",
     "delete_cmd_prefix": "del ",
     "library": "var_list.py",
     "varRefreshCmd": "print(var_dic_list())"
    },
    "r": {
     "delete_cmd_postfix": ") ",
     "delete_cmd_prefix": "rm(",
     "library": "var_list.r",
     "varRefreshCmd": "cat(var_dic_list()) "
    }
   },
   "types_to_exclude": [
    "module",
    "function",
    "builtin_function_or_method",
    "instance",
    "_Feature"
   ],
   "window_display": false
  }
 },
 "nbformat": 4,
 "nbformat_minor": 5
}
