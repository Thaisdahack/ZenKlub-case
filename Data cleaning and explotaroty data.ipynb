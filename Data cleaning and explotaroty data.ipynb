{
 "cells": [
  {
   "cell_type": "code",
   "execution_count": 1,
   "id": "d8f87bd5",
   "metadata": {
    "ExecuteTime": {
     "end_time": "2022-06-25T14:10:08.580540Z",
     "start_time": "2022-06-25T14:10:05.626000Z"
    }
   },
   "outputs": [],
   "source": [
    "import pandas as pd\n",
    "import numpy as np\n"
   ]
  },
  {
   "cell_type": "markdown",
   "id": "bba16d0a",
   "metadata": {},
   "source": [
    "## Clients"
   ]
  },
  {
   "cell_type": "code",
   "execution_count": 3,
   "id": "77b4768d",
   "metadata": {
    "ExecuteTime": {
     "end_time": "2022-06-25T14:13:23.782253Z",
     "start_time": "2022-06-25T14:13:23.762615Z"
    }
   },
   "outputs": [],
   "source": [
    "# oppening datasets\n",
    "clients = pd.read_csv('clients.csv')"
   ]
  },
  {
   "cell_type": "code",
   "execution_count": 4,
   "id": "a8b97a69",
   "metadata": {
    "ExecuteTime": {
     "end_time": "2022-06-25T14:13:26.610305Z",
     "start_time": "2022-06-25T14:13:26.517826Z"
    }
   },
   "outputs": [
    {
     "data": {
      "text/html": [
       "<div>\n",
       "<style scoped>\n",
       "    .dataframe tbody tr th:only-of-type {\n",
       "        vertical-align: middle;\n",
       "    }\n",
       "\n",
       "    .dataframe tbody tr th {\n",
       "        vertical-align: top;\n",
       "    }\n",
       "\n",
       "    .dataframe thead th {\n",
       "        text-align: right;\n",
       "    }\n",
       "</style>\n",
       "<table border=\"1\" class=\"dataframe\">\n",
       "  <thead>\n",
       "    <tr style=\"text-align: right;\">\n",
       "      <th></th>\n",
       "      <th>user_id</th>\n",
       "      <th>sign_up_date</th>\n",
       "    </tr>\n",
       "  </thead>\n",
       "  <tbody>\n",
       "    <tr>\n",
       "      <th>0</th>\n",
       "      <td>59a6c127e66d0507dc382dac</td>\n",
       "      <td>2017-08-30</td>\n",
       "    </tr>\n",
       "    <tr>\n",
       "      <th>1</th>\n",
       "      <td>5af8d15ce66d031e78734b0a</td>\n",
       "      <td>2018-05-13</td>\n",
       "    </tr>\n",
       "    <tr>\n",
       "      <th>2</th>\n",
       "      <td>5c4914c5e66d0315b4188471</td>\n",
       "      <td>2019-01-24</td>\n",
       "    </tr>\n",
       "    <tr>\n",
       "      <th>3</th>\n",
       "      <td>5c4914c5e66d0315b4188471</td>\n",
       "      <td>2019-01-24</td>\n",
       "    </tr>\n",
       "    <tr>\n",
       "      <th>4</th>\n",
       "      <td>5c4914c5e66d0315b4188471</td>\n",
       "      <td>2019-01-24</td>\n",
       "    </tr>\n",
       "    <tr>\n",
       "      <th>...</th>\n",
       "      <td>...</td>\n",
       "      <td>...</td>\n",
       "    </tr>\n",
       "    <tr>\n",
       "      <th>995</th>\n",
       "      <td>58a83f46e66d031ae88e8173</td>\n",
       "      <td>2017-02-18</td>\n",
       "    </tr>\n",
       "    <tr>\n",
       "      <th>996</th>\n",
       "      <td>59f9b10be66d0316fcf40a6d</td>\n",
       "      <td>2017-11-01</td>\n",
       "    </tr>\n",
       "    <tr>\n",
       "      <th>997</th>\n",
       "      <td>59f96418e66d031b3c9913fa</td>\n",
       "      <td>2017-11-01</td>\n",
       "    </tr>\n",
       "    <tr>\n",
       "      <th>998</th>\n",
       "      <td>59f9e6dce66d0316fcf41d89</td>\n",
       "      <td>2017-11-01</td>\n",
       "    </tr>\n",
       "    <tr>\n",
       "      <th>999</th>\n",
       "      <td>59f9e6dce66d0316fcf41d89</td>\n",
       "      <td>2017-11-01</td>\n",
       "    </tr>\n",
       "  </tbody>\n",
       "</table>\n",
       "<p>1000 rows × 2 columns</p>\n",
       "</div>"
      ],
      "text/plain": [
       "                      user_id sign_up_date\n",
       "0    59a6c127e66d0507dc382dac   2017-08-30\n",
       "1    5af8d15ce66d031e78734b0a   2018-05-13\n",
       "2    5c4914c5e66d0315b4188471   2019-01-24\n",
       "3    5c4914c5e66d0315b4188471   2019-01-24\n",
       "4    5c4914c5e66d0315b4188471   2019-01-24\n",
       "..                        ...          ...\n",
       "995  58a83f46e66d031ae88e8173   2017-02-18\n",
       "996  59f9b10be66d0316fcf40a6d   2017-11-01\n",
       "997  59f96418e66d031b3c9913fa   2017-11-01\n",
       "998  59f9e6dce66d0316fcf41d89   2017-11-01\n",
       "999  59f9e6dce66d0316fcf41d89   2017-11-01\n",
       "\n",
       "[1000 rows x 2 columns]"
      ]
     },
     "execution_count": 4,
     "metadata": {},
     "output_type": "execute_result"
    }
   ],
   "source": [
    "clients"
   ]
  },
  {
   "cell_type": "code",
   "execution_count": 8,
   "id": "b9ff997b",
   "metadata": {
    "ExecuteTime": {
     "end_time": "2022-06-25T14:15:03.183916Z",
     "start_time": "2022-06-25T14:15:03.042180Z"
    }
   },
   "outputs": [
    {
     "name": "stdout",
     "output_type": "stream",
     "text": [
      "<class 'pandas.core.frame.DataFrame'>\n",
      "RangeIndex: 1000 entries, 0 to 999\n",
      "Data columns (total 2 columns):\n",
      " #   Column        Non-Null Count  Dtype \n",
      "---  ------        --------------  ----- \n",
      " 0   user_id       1000 non-null   object\n",
      " 1   sign_up_date  1000 non-null   object\n",
      "dtypes: object(2)\n",
      "memory usage: 15.8+ KB\n"
     ]
    }
   ],
   "source": [
    "#checking null values\n",
    "clients.info()"
   ]
  },
  {
   "cell_type": "code",
   "execution_count": 11,
   "id": "85b2a5a1",
   "metadata": {
    "ExecuteTime": {
     "end_time": "2022-06-25T14:19:08.431063Z",
     "start_time": "2022-06-25T14:19:08.410912Z"
    }
   },
   "outputs": [
    {
     "data": {
      "text/plain": [
       "5c619e13e66d03057cb968d9    12\n",
       "5c96c3f2e66d032b9024a986    11\n",
       "58a4b221e66d03163058e835    10\n",
       "5b154524e66d0407c011e795    10\n",
       "59b14d36e66d031a9c2239c0    10\n",
       "                            ..\n",
       "5c9ac9a4e66d072290dd1b62     1\n",
       "5c92f953e66d0327208ea52a     1\n",
       "589c8b04e66d0315605539f6     1\n",
       "5c6cbe60e66d0324500f53f0     1\n",
       "5c4d1debe66d031524824978     1\n",
       "Name: user_id, Length: 447, dtype: int64"
      ]
     },
     "execution_count": 11,
     "metadata": {},
     "output_type": "execute_result"
    }
   ],
   "source": [
    "#checking duplicates\n",
    "clients['user_id'].value_counts()"
   ]
  },
  {
   "cell_type": "code",
   "execution_count": 12,
   "id": "1668604b",
   "metadata": {
    "ExecuteTime": {
     "end_time": "2022-06-25T14:19:37.686229Z",
     "start_time": "2022-06-25T14:19:37.663153Z"
    }
   },
   "outputs": [
    {
     "data": {
      "text/plain": [
       "2019-03-11    25\n",
       "2019-03-18    24\n",
       "2018-05-15    22\n",
       "2019-02-11    19\n",
       "2018-06-04    19\n",
       "              ..\n",
       "2017-09-22     1\n",
       "2017-09-17     1\n",
       "2017-09-09     1\n",
       "2017-10-31     1\n",
       "2017-01-30     1\n",
       "Name: sign_up_date, Length: 193, dtype: int64"
      ]
     },
     "execution_count": 12,
     "metadata": {},
     "output_type": "execute_result"
    }
   ],
   "source": [
    "clients['sign_up_date'].value_counts()"
   ]
  },
  {
   "cell_type": "code",
   "execution_count": null,
   "id": "ffff4bd7",
   "metadata": {
    "ExecuteTime": {
     "end_time": "2022-06-25T14:22:39.804939Z",
     "start_time": "2022-06-25T14:22:39.750269Z"
    }
   },
   "outputs": [],
   "source": [
    "# no null values founded\n"
   ]
  },
  {
   "cell_type": "markdown",
   "id": "8edf4fe6",
   "metadata": {
    "ExecuteTime": {
     "end_time": "2022-06-25T14:14:48.600631Z",
     "start_time": "2022-06-25T14:14:47.341363Z"
    }
   },
   "source": [
    "## events"
   ]
  },
  {
   "cell_type": "code",
   "execution_count": 15,
   "id": "fd83a79c",
   "metadata": {
    "ExecuteTime": {
     "end_time": "2022-06-25T14:24:21.571622Z",
     "start_time": "2022-06-25T14:24:21.213947Z"
    }
   },
   "outputs": [],
   "source": [
    "events = pd.read_csv('events.csv')"
   ]
  },
  {
   "cell_type": "code",
   "execution_count": 17,
   "id": "3777ab88",
   "metadata": {
    "ExecuteTime": {
     "end_time": "2022-06-25T14:24:48.374356Z",
     "start_time": "2022-06-25T14:24:48.337026Z"
    }
   },
   "outputs": [
    {
     "name": "stdout",
     "output_type": "stream",
     "text": [
      "<class 'pandas.core.frame.DataFrame'>\n",
      "RangeIndex: 52118 entries, 0 to 52117\n",
      "Data columns (total 5 columns):\n",
      " #   Column                Non-Null Count  Dtype \n",
      "---  ------                --------------  ----- \n",
      " 0   session_id            52118 non-null  object\n",
      " 1   session_date          52118 non-null  object\n",
      " 2   client_user_id        52118 non-null  object\n",
      " 3   professional_user_id  52118 non-null  object\n",
      " 4   contact_reasons       36304 non-null  object\n",
      "dtypes: object(5)\n",
      "memory usage: 2.0+ MB\n"
     ]
    }
   ],
   "source": [
    "events.info()"
   ]
  },
  {
   "cell_type": "code",
   "execution_count": 21,
   "id": "aa5c41e8",
   "metadata": {
    "ExecuteTime": {
     "end_time": "2022-06-25T14:25:24.552501Z",
     "start_time": "2022-06-25T14:25:24.540443Z"
    }
   },
   "outputs": [
    {
     "data": {
      "text/plain": [
       "(52118, 5)"
      ]
     },
     "execution_count": 21,
     "metadata": {},
     "output_type": "execute_result"
    }
   ],
   "source": [
    "events.shape"
   ]
  },
  {
   "cell_type": "code",
   "execution_count": 23,
   "id": "16927e19",
   "metadata": {
    "ExecuteTime": {
     "end_time": "2022-06-25T14:26:33.555441Z",
     "start_time": "2022-06-25T14:26:33.531080Z"
    }
   },
   "outputs": [
    {
     "data": {
      "text/html": [
       "<div>\n",
       "<style scoped>\n",
       "    .dataframe tbody tr th:only-of-type {\n",
       "        vertical-align: middle;\n",
       "    }\n",
       "\n",
       "    .dataframe tbody tr th {\n",
       "        vertical-align: top;\n",
       "    }\n",
       "\n",
       "    .dataframe thead th {\n",
       "        text-align: right;\n",
       "    }\n",
       "</style>\n",
       "<table border=\"1\" class=\"dataframe\">\n",
       "  <thead>\n",
       "    <tr style=\"text-align: right;\">\n",
       "      <th></th>\n",
       "      <th>session_id</th>\n",
       "      <th>session_date</th>\n",
       "      <th>client_user_id</th>\n",
       "      <th>professional_user_id</th>\n",
       "      <th>contact_reasons</th>\n",
       "    </tr>\n",
       "  </thead>\n",
       "  <tbody>\n",
       "    <tr>\n",
       "      <th>0</th>\n",
       "      <td>60e7a5939beb2200116859cc</td>\n",
       "      <td>2021-07-09T23:00:00Z</td>\n",
       "      <td>5f4bfbb5d7e0014e10e9653b</td>\n",
       "      <td>5e1d48550c3e7c3b9989df01</td>\n",
       "      <td>[\"reason:self-knowledge\",\"reason:borderline\",\"...</td>\n",
       "    </tr>\n",
       "    <tr>\n",
       "      <th>1</th>\n",
       "      <td>5fe271f5b42c6c6bd693c181</td>\n",
       "      <td>2020-12-22T22:30:00Z</td>\n",
       "      <td>5fd63eb96c65bc304fa6a7a4</td>\n",
       "      <td>57edc1cde66d0a12e47ff2fc</td>\n",
       "      <td>[\"reason:adolescence\"]</td>\n",
       "    </tr>\n",
       "    <tr>\n",
       "      <th>2</th>\n",
       "      <td>5e99d083e85bc054959f1900</td>\n",
       "      <td>2020-04-28T15:00:00Z</td>\n",
       "      <td>5e36c6c3dc16745036e35e3c</td>\n",
       "      <td>596cc8bfe66d031cd8a5aabc</td>\n",
       "      <td>[\"reason:self-esteem\",\"reason:love-relationship\"]</td>\n",
       "    </tr>\n",
       "    <tr>\n",
       "      <th>3</th>\n",
       "      <td>61687afac4ab1a0012d34550</td>\n",
       "      <td>2021-10-18T19:00:00Z</td>\n",
       "      <td>5ed441af2b50d2298e5fdaae</td>\n",
       "      <td>57eee7bce66d0311d0169267</td>\n",
       "      <td>[\"reason:self-knowledge\",\"reason:assertiveness...</td>\n",
       "    </tr>\n",
       "    <tr>\n",
       "      <th>4</th>\n",
       "      <td>5fc53286bb7b433824734aef</td>\n",
       "      <td>2020-12-07T17:00:00Z</td>\n",
       "      <td>5d3460e54ec5c1470d29322b</td>\n",
       "      <td>57edc1cde66d0a12e47ff2fc</td>\n",
       "      <td>[\"reason:burnout\",\"reason:self-knowledge\"]</td>\n",
       "    </tr>\n",
       "  </tbody>\n",
       "</table>\n",
       "</div>"
      ],
      "text/plain": [
       "                 session_id          session_date            client_user_id  \\\n",
       "0  60e7a5939beb2200116859cc  2021-07-09T23:00:00Z  5f4bfbb5d7e0014e10e9653b   \n",
       "1  5fe271f5b42c6c6bd693c181  2020-12-22T22:30:00Z  5fd63eb96c65bc304fa6a7a4   \n",
       "2  5e99d083e85bc054959f1900  2020-04-28T15:00:00Z  5e36c6c3dc16745036e35e3c   \n",
       "3  61687afac4ab1a0012d34550  2021-10-18T19:00:00Z  5ed441af2b50d2298e5fdaae   \n",
       "4  5fc53286bb7b433824734aef  2020-12-07T17:00:00Z  5d3460e54ec5c1470d29322b   \n",
       "\n",
       "       professional_user_id                                    contact_reasons  \n",
       "0  5e1d48550c3e7c3b9989df01  [\"reason:self-knowledge\",\"reason:borderline\",\"...  \n",
       "1  57edc1cde66d0a12e47ff2fc                             [\"reason:adolescence\"]  \n",
       "2  596cc8bfe66d031cd8a5aabc  [\"reason:self-esteem\",\"reason:love-relationship\"]  \n",
       "3  57eee7bce66d0311d0169267  [\"reason:self-knowledge\",\"reason:assertiveness...  \n",
       "4  57edc1cde66d0a12e47ff2fc         [\"reason:burnout\",\"reason:self-knowledge\"]  "
      ]
     },
     "execution_count": 23,
     "metadata": {},
     "output_type": "execute_result"
    }
   ],
   "source": [
    "events.head()"
   ]
  },
  {
   "cell_type": "code",
   "execution_count": 26,
   "id": "8d8b4854",
   "metadata": {
    "ExecuteTime": {
     "end_time": "2022-06-25T14:28:19.691449Z",
     "start_time": "2022-06-25T14:28:19.635933Z"
    }
   },
   "outputs": [
    {
     "data": {
      "text/plain": [
       "2021-12-01T21:00:00Z    31\n",
       "2021-11-17T22:00:00Z    28\n",
       "2021-11-03T21:00:00Z    26\n",
       "2021-11-11T22:00:00Z    26\n",
       "2021-11-23T22:00:00Z    25\n",
       "                        ..\n",
       "2020-03-31T23:00:00Z     1\n",
       "2021-08-11T12:30:00Z     1\n",
       "2021-10-05T18:06:00Z     1\n",
       "2021-04-11T23:30:00Z     1\n",
       "2018-09-13T20:00:00Z     1\n",
       "Name: session_date, Length: 17881, dtype: int64"
      ]
     },
     "execution_count": 26,
     "metadata": {},
     "output_type": "execute_result"
    }
   ],
   "source": [
    "events['session_date'].value_counts()"
   ]
  },
  {
   "cell_type": "markdown",
   "id": "57c1df72",
   "metadata": {},
   "source": [
    "## Professionals"
   ]
  },
  {
   "cell_type": "code",
   "execution_count": 28,
   "id": "1e781ce5",
   "metadata": {
    "ExecuteTime": {
     "end_time": "2022-06-25T14:30:11.176078Z",
     "start_time": "2022-06-25T14:30:11.045330Z"
    }
   },
   "outputs": [
    {
     "data": {
      "text/html": [
       "<div>\n",
       "<style scoped>\n",
       "    .dataframe tbody tr th:only-of-type {\n",
       "        vertical-align: middle;\n",
       "    }\n",
       "\n",
       "    .dataframe tbody tr th {\n",
       "        vertical-align: top;\n",
       "    }\n",
       "\n",
       "    .dataframe thead th {\n",
       "        text-align: right;\n",
       "    }\n",
       "</style>\n",
       "<table border=\"1\" class=\"dataframe\">\n",
       "  <thead>\n",
       "    <tr style=\"text-align: right;\">\n",
       "      <th></th>\n",
       "      <th>professional_user_id</th>\n",
       "      <th>sign_up_date</th>\n",
       "      <th>professional_type</th>\n",
       "      <th>gender</th>\n",
       "      <th>price</th>\n",
       "      <th>is_accepting_half_hour</th>\n",
       "      <th>is_gold</th>\n",
       "      <th>is_diamond</th>\n",
       "      <th>is_silver</th>\n",
       "    </tr>\n",
       "  </thead>\n",
       "  <tbody>\n",
       "    <tr>\n",
       "      <th>0</th>\n",
       "      <td>57edbf05e66d0a12e47ff296</td>\n",
       "      <td>2019-05-03</td>\n",
       "      <td>psychologist</td>\n",
       "      <td>f</td>\n",
       "      <td>150.0</td>\n",
       "      <td>False</td>\n",
       "      <td>True</td>\n",
       "      <td>False</td>\n",
       "      <td>True</td>\n",
       "    </tr>\n",
       "    <tr>\n",
       "      <th>1</th>\n",
       "      <td>57edbf05e66d0a12e47ff296</td>\n",
       "      <td>2019-05-03</td>\n",
       "      <td>psychologist</td>\n",
       "      <td>f</td>\n",
       "      <td>150.0</td>\n",
       "      <td>False</td>\n",
       "      <td>True</td>\n",
       "      <td>False</td>\n",
       "      <td>True</td>\n",
       "    </tr>\n",
       "    <tr>\n",
       "      <th>2</th>\n",
       "      <td>57edbf05e66d0a12e47ff296</td>\n",
       "      <td>2019-05-03</td>\n",
       "      <td>psychologist</td>\n",
       "      <td>f</td>\n",
       "      <td>150.0</td>\n",
       "      <td>False</td>\n",
       "      <td>True</td>\n",
       "      <td>False</td>\n",
       "      <td>True</td>\n",
       "    </tr>\n",
       "    <tr>\n",
       "      <th>3</th>\n",
       "      <td>57edbf05e66d0a12e47ff296</td>\n",
       "      <td>2019-05-03</td>\n",
       "      <td>psychologist</td>\n",
       "      <td>f</td>\n",
       "      <td>150.0</td>\n",
       "      <td>False</td>\n",
       "      <td>True</td>\n",
       "      <td>False</td>\n",
       "      <td>True</td>\n",
       "    </tr>\n",
       "    <tr>\n",
       "      <th>4</th>\n",
       "      <td>57edbf05e66d0a12e47ff296</td>\n",
       "      <td>2019-05-03</td>\n",
       "      <td>psychologist</td>\n",
       "      <td>f</td>\n",
       "      <td>150.0</td>\n",
       "      <td>False</td>\n",
       "      <td>True</td>\n",
       "      <td>False</td>\n",
       "      <td>True</td>\n",
       "    </tr>\n",
       "  </tbody>\n",
       "</table>\n",
       "</div>"
      ],
      "text/plain": [
       "       professional_user_id sign_up_date professional_type gender  price  \\\n",
       "0  57edbf05e66d0a12e47ff296   2019-05-03      psychologist      f  150.0   \n",
       "1  57edbf05e66d0a12e47ff296   2019-05-03      psychologist      f  150.0   \n",
       "2  57edbf05e66d0a12e47ff296   2019-05-03      psychologist      f  150.0   \n",
       "3  57edbf05e66d0a12e47ff296   2019-05-03      psychologist      f  150.0   \n",
       "4  57edbf05e66d0a12e47ff296   2019-05-03      psychologist      f  150.0   \n",
       "\n",
       "  is_accepting_half_hour is_gold is_diamond is_silver  \n",
       "0                  False    True      False      True  \n",
       "1                  False    True      False      True  \n",
       "2                  False    True      False      True  \n",
       "3                  False    True      False      True  \n",
       "4                  False    True      False      True  "
      ]
     },
     "execution_count": 28,
     "metadata": {},
     "output_type": "execute_result"
    }
   ],
   "source": [
    "prof = pd.read_csv('proessionals.csv')\n",
    "prof.head()"
   ]
  },
  {
   "cell_type": "code",
   "execution_count": 30,
   "id": "ebd4260f",
   "metadata": {
    "ExecuteTime": {
     "end_time": "2022-06-25T14:31:27.268855Z",
     "start_time": "2022-06-25T14:31:27.235908Z"
    }
   },
   "outputs": [
    {
     "name": "stdout",
     "output_type": "stream",
     "text": [
      "<class 'pandas.core.frame.DataFrame'>\n",
      "RangeIndex: 2753 entries, 0 to 2752\n",
      "Data columns (total 9 columns):\n",
      " #   Column                  Non-Null Count  Dtype  \n",
      "---  ------                  --------------  -----  \n",
      " 0   professional_user_id    2753 non-null   object \n",
      " 1   sign_up_date            2753 non-null   object \n",
      " 2   professional_type       2753 non-null   object \n",
      " 3   gender                  2753 non-null   object \n",
      " 4   price                   2753 non-null   float64\n",
      " 5   is_accepting_half_hour  2665 non-null   object \n",
      " 6   is_gold                 2739 non-null   object \n",
      " 7   is_diamond              2739 non-null   object \n",
      " 8   is_silver               2739 non-null   object \n",
      "dtypes: float64(1), object(8)\n",
      "memory usage: 193.7+ KB\n"
     ]
    }
   ],
   "source": [
    "prof.info()"
   ]
  },
  {
   "cell_type": "code",
   "execution_count": 31,
   "id": "517e824c",
   "metadata": {
    "ExecuteTime": {
     "end_time": "2022-06-25T14:31:54.680232Z",
     "start_time": "2022-06-25T14:31:54.624989Z"
    }
   },
   "outputs": [
    {
     "data": {
      "text/plain": [
       "(2753, 9)"
      ]
     },
     "execution_count": 31,
     "metadata": {},
     "output_type": "execute_result"
    }
   ],
   "source": [
    "prof.shape"
   ]
  },
  {
   "cell_type": "markdown",
   "id": "4a7cd20e",
   "metadata": {},
   "source": [
    "## Ratings"
   ]
  },
  {
   "cell_type": "code",
   "execution_count": 33,
   "id": "fbf23f89",
   "metadata": {
    "ExecuteTime": {
     "end_time": "2022-06-25T14:32:58.127562Z",
     "start_time": "2022-06-25T14:32:58.097092Z"
    }
   },
   "outputs": [],
   "source": [
    "ratings = pd.read_csv('ratings.csv')"
   ]
  },
  {
   "cell_type": "code",
   "execution_count": 35,
   "id": "f2bb2c4c",
   "metadata": {
    "ExecuteTime": {
     "end_time": "2022-06-25T14:33:23.292584Z",
     "start_time": "2022-06-25T14:33:23.268868Z"
    }
   },
   "outputs": [
    {
     "data": {
      "text/html": [
       "<div>\n",
       "<style scoped>\n",
       "    .dataframe tbody tr th:only-of-type {\n",
       "        vertical-align: middle;\n",
       "    }\n",
       "\n",
       "    .dataframe tbody tr th {\n",
       "        vertical-align: top;\n",
       "    }\n",
       "\n",
       "    .dataframe thead th {\n",
       "        text-align: right;\n",
       "    }\n",
       "</style>\n",
       "<table border=\"1\" class=\"dataframe\">\n",
       "  <thead>\n",
       "    <tr style=\"text-align: right;\">\n",
       "      <th></th>\n",
       "      <th>rating_id</th>\n",
       "      <th>client_user_id</th>\n",
       "      <th>professional_user_id</th>\n",
       "      <th>value</th>\n",
       "      <th>is_valid</th>\n",
       "      <th>is_visible</th>\n",
       "    </tr>\n",
       "  </thead>\n",
       "  <tbody>\n",
       "    <tr>\n",
       "      <th>0</th>\n",
       "      <td>316</td>\n",
       "      <td>59810f80e66d0313b89e3e24</td>\n",
       "      <td>5926f1ade66d03158036746e</td>\n",
       "      <td>5</td>\n",
       "      <td>True</td>\n",
       "      <td>True</td>\n",
       "    </tr>\n",
       "    <tr>\n",
       "      <th>1</th>\n",
       "      <td>314</td>\n",
       "      <td>5984c571e66d03048823c46d</td>\n",
       "      <td>5926f1ade66d03158036746e</td>\n",
       "      <td>5</td>\n",
       "      <td>True</td>\n",
       "      <td>True</td>\n",
       "    </tr>\n",
       "    <tr>\n",
       "      <th>2</th>\n",
       "      <td>345</td>\n",
       "      <td>5988cfd6e66d0714d063a9ee</td>\n",
       "      <td>5926f1ade66d03158036746e</td>\n",
       "      <td>5</td>\n",
       "      <td>True</td>\n",
       "      <td>True</td>\n",
       "    </tr>\n",
       "    <tr>\n",
       "      <th>3</th>\n",
       "      <td>357</td>\n",
       "      <td>59a6043be66d0307dc24bf48</td>\n",
       "      <td>5926f1ade66d03158036746e</td>\n",
       "      <td>5</td>\n",
       "      <td>True</td>\n",
       "      <td>False</td>\n",
       "    </tr>\n",
       "    <tr>\n",
       "      <th>4</th>\n",
       "      <td>442</td>\n",
       "      <td>59d2dce1e66d031b880b7e30</td>\n",
       "      <td>5926f1ade66d03158036746e</td>\n",
       "      <td>5</td>\n",
       "      <td>True</td>\n",
       "      <td>False</td>\n",
       "    </tr>\n",
       "  </tbody>\n",
       "</table>\n",
       "</div>"
      ],
      "text/plain": [
       "   rating_id            client_user_id      professional_user_id  value  \\\n",
       "0        316  59810f80e66d0313b89e3e24  5926f1ade66d03158036746e      5   \n",
       "1        314  5984c571e66d03048823c46d  5926f1ade66d03158036746e      5   \n",
       "2        345  5988cfd6e66d0714d063a9ee  5926f1ade66d03158036746e      5   \n",
       "3        357  59a6043be66d0307dc24bf48  5926f1ade66d03158036746e      5   \n",
       "4        442  59d2dce1e66d031b880b7e30  5926f1ade66d03158036746e      5   \n",
       "\n",
       "   is_valid  is_visible  \n",
       "0      True        True  \n",
       "1      True        True  \n",
       "2      True        True  \n",
       "3      True       False  \n",
       "4      True       False  "
      ]
     },
     "execution_count": 35,
     "metadata": {},
     "output_type": "execute_result"
    }
   ],
   "source": [
    "ratings.head()"
   ]
  },
  {
   "cell_type": "code",
   "execution_count": 37,
   "id": "7343f593",
   "metadata": {
    "ExecuteTime": {
     "end_time": "2022-06-25T14:33:58.977055Z",
     "start_time": "2022-06-25T14:33:58.958621Z"
    }
   },
   "outputs": [
    {
     "data": {
      "text/plain": [
       "(5000, 6)"
      ]
     },
     "execution_count": 37,
     "metadata": {},
     "output_type": "execute_result"
    }
   ],
   "source": [
    "ratings.shape"
   ]
  },
  {
   "cell_type": "code",
   "execution_count": 38,
   "id": "a7a61386",
   "metadata": {
    "ExecuteTime": {
     "end_time": "2022-06-25T14:34:06.637709Z",
     "start_time": "2022-06-25T14:34:06.606066Z"
    }
   },
   "outputs": [
    {
     "name": "stdout",
     "output_type": "stream",
     "text": [
      "<class 'pandas.core.frame.DataFrame'>\n",
      "RangeIndex: 5000 entries, 0 to 4999\n",
      "Data columns (total 6 columns):\n",
      " #   Column                Non-Null Count  Dtype \n",
      "---  ------                --------------  ----- \n",
      " 0   rating_id             5000 non-null   int64 \n",
      " 1   client_user_id        5000 non-null   object\n",
      " 2   professional_user_id  5000 non-null   object\n",
      " 3   value                 5000 non-null   int64 \n",
      " 4   is_valid              5000 non-null   bool  \n",
      " 5   is_visible            5000 non-null   bool  \n",
      "dtypes: bool(2), int64(2), object(2)\n",
      "memory usage: 166.1+ KB\n"
     ]
    }
   ],
   "source": [
    "ratings.info()"
   ]
  }
 ],
 "metadata": {
  "kernelspec": {
   "display_name": "Python 3",
   "language": "python",
   "name": "python3"
  },
  "language_info": {
   "codemirror_mode": {
    "name": "ipython",
    "version": 3
   },
   "file_extension": ".py",
   "mimetype": "text/x-python",
   "name": "python",
   "nbconvert_exporter": "python",
   "pygments_lexer": "ipython3",
   "version": "3.8.8"
  },
  "toc": {
   "base_numbering": 1,
   "nav_menu": {},
   "number_sections": true,
   "sideBar": true,
   "skip_h1_title": false,
   "title_cell": "Table of Contents",
   "title_sidebar": "Contents",
   "toc_cell": false,
   "toc_position": {},
   "toc_section_display": true,
   "toc_window_display": false
  },
  "varInspector": {
   "cols": {
    "lenName": 16,
    "lenType": 16,
    "lenVar": 40
   },
   "kernels_config": {
    "python": {
     "delete_cmd_postfix": "",
     "delete_cmd_prefix": "del ",
     "library": "var_list.py",
     "varRefreshCmd": "print(var_dic_list())"
    },
    "r": {
     "delete_cmd_postfix": ") ",
     "delete_cmd_prefix": "rm(",
     "library": "var_list.r",
     "varRefreshCmd": "cat(var_dic_list()) "
    }
   },
   "types_to_exclude": [
    "module",
    "function",
    "builtin_function_or_method",
    "instance",
    "_Feature"
   ],
   "window_display": false
  }
 },
 "nbformat": 4,
 "nbformat_minor": 5
}
